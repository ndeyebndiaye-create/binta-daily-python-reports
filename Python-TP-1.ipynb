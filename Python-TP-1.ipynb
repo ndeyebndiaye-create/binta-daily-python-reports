{
 "cells": [
  {
   "cell_type": "markdown",
   "id": "426486dd",
   "metadata": {
    "id": "426486dd"
   },
   "source": [
    "\n",
    "\n",
    "# Practical_1: Variables and Assignments"
   ]
  },
  {
   "cell_type": "markdown",
   "id": "a5db5d6f",
   "metadata": {
    "id": "9fb19f0d"
   },
   "source": [
    "----\n",
    "\n",
    "### Exercise 1:"
   ]
  },
  {
   "cell_type": "markdown",
   "id": "76e20d9d",
   "metadata": {
    "id": "9fb19f0d"
   },
   "source": [
    "Declare a variable `x` and assign it the value `10`.\n",
    "\n",
    "```python\n",
    "# Exercise 1\n",
    "```\n",
    "\n",
    "---"
   ]
  },
  {
   "cell_type": "code",
   "execution_count": null,
   "id": "e6be54d9",
   "metadata": {},
   "outputs": [],
   "source": [
    "x=10"
   ]
  },
  {
   "cell_type": "markdown",
   "id": "ed9f6821",
   "metadata": {
    "id": "9fb19f0d"
   },
   "source": [
    "### Exercise 2:\n",
    "Assign the value `True` to a variable called `is_valid`.\n",
    "\n",
    "```python\n",
    "# Exercise 2\n",
    "\n",
    "```\n",
    "\n",
    "---"
   ]
  },
  {
   "cell_type": "code",
   "execution_count": null,
   "id": "8bf8563b",
   "metadata": {},
   "outputs": [],
   "source": [
    "is_valid = True"
   ]
  },
  {
   "cell_type": "markdown",
   "id": "af047284",
   "metadata": {
    "id": "9fb19f0d"
   },
   "source": [
    "### Exercise 3:\n",
    "Create a string variable `name` with the value \"Python Programming\".\n",
    "\n",
    "```python\n",
    "# Exercise 3\n",
    "```\n",
    "\n",
    "---"
   ]
  },
  {
   "cell_type": "code",
   "execution_count": null,
   "id": "b289f120",
   "metadata": {},
   "outputs": [],
   "source": [
    "name = \"Python Programming\""
   ]
  },
  {
   "cell_type": "markdown",
   "id": "0008221f",
   "metadata": {
    "id": "9fb19f0d"
   },
   "source": [
    "### Exercise 4:\n",
    "Assign the result of `5 + 3` to a variable `sum_result`.\n",
    "\n",
    "```python\n",
    "# Exercise 4\n",
    "```\n",
    "\n",
    "---"
   ]
  },
  {
   "cell_type": "code",
   "execution_count": null,
   "id": "fa1b3688",
   "metadata": {},
   "outputs": [],
   "source": [
    "sum_result = 5+3"
   ]
  },
  {
   "cell_type": "markdown",
   "id": "91fc8e52",
   "metadata": {
    "id": "9fb19f0d"
   },
   "source": [
    "### Exercise 5:\n",
    "Assign multiple variables in one line: `a = 5`, `b = 10`, `c = 15`.\n",
    "\n",
    "```python\n",
    "# Exercise 5\n",
    "```\n",
    "\n",
    "---"
   ]
  },
  {
   "cell_type": "code",
   "execution_count": null,
   "id": "593b6d0c",
   "metadata": {},
   "outputs": [],
   "source": [
    "a = 5 , b= 10 , c=15"
   ]
  },
  {
   "cell_type": "markdown",
   "id": "9597268d",
   "metadata": {
    "id": "9fb19f0d"
   },
   "source": [
    "### Exercise 6:\n",
    "Assign the value of one variable `x` to another variable `y`.\n",
    "\n",
    "```python\n",
    "# Exercise 6\n",
    "```\n",
    "\n",
    "---"
   ]
  },
  {
   "cell_type": "code",
   "execution_count": 3,
   "id": "3eeac00b",
   "metadata": {},
   "outputs": [],
   "source": [
    "x= 5\n",
    "y= x"
   ]
  },
  {
   "cell_type": "markdown",
   "id": "cd0ec570",
   "metadata": {
    "id": "9fb19f0d"
   },
   "source": [
    "### Exercise 7:\n",
    "Assign a floating-point number `9.8` to a variable `gravity`.\n",
    "\n",
    "```python\n",
    "# Exercise 7\n",
    "```\n",
    "\n",
    "---"
   ]
  },
  {
   "cell_type": "code",
   "execution_count": null,
   "id": "29194ff5",
   "metadata": {},
   "outputs": [],
   "source": [
    "gravity = 9.8"
   ]
  },
  {
   "cell_type": "markdown",
   "id": "17aec23a",
   "metadata": {
    "id": "9fb19f0d"
   },
   "source": [
    "### Exercise 8:\n",
    "Create a variable `country` and assign it the string value of your favorite country.\n",
    "\n",
    "```python\n",
    "# Exercise 8\n",
    "```\n",
    "\n",
    "---"
   ]
  },
  {
   "cell_type": "code",
   "execution_count": null,
   "id": "4ffb8aff",
   "metadata": {},
   "outputs": [],
   "source": [
    "country= 'Senegal'"
   ]
  },
  {
   "cell_type": "markdown",
   "id": "53558c00",
   "metadata": {
    "id": "9fb19f0d"
   },
   "source": [
    "### Exercise 9:\n",
    "Change the value of variable `age` from `25` to `26` in two separate steps.\n",
    "\n",
    "```python\n",
    "# Exercise 9\n",
    "```\n",
    "\n",
    "---"
   ]
  },
  {
   "cell_type": "code",
   "execution_count": 5,
   "id": "01351d54",
   "metadata": {},
   "outputs": [
    {
     "data": {
      "text/plain": [
       "26"
      ]
     },
     "execution_count": 5,
     "metadata": {},
     "output_type": "execute_result"
    }
   ],
   "source": [
    "age = 25\n",
    "result = age+1\n",
    "age = result\n",
    "age"
   ]
  },
  {
   "cell_type": "markdown",
   "id": "3e419597",
   "metadata": {
    "id": "9fb19f0d"
   },
   "source": [
    "### Exercise 10:\n",
    "Use one variable to store the result of subtracting two numbers `20 - 7`.\n",
    "\n",
    "```python\n",
    "# Exercise 10\n",
    "```\n",
    "\n",
    "---"
   ]
  },
  {
   "cell_type": "code",
   "execution_count": null,
   "id": "ea412de4",
   "metadata": {},
   "outputs": [],
   "source": [
    "R = 20-7"
   ]
  },
  {
   "cell_type": "markdown",
   "id": "79341065",
   "metadata": {
    "id": "9fb19f0d"
   },
   "source": [
    "### Exercise 11:\n",
    "Assign an integer value and a floating-point value to two different variables.\n",
    "\n",
    "```python\n",
    "# Exercise 11\n",
    "```\n",
    "\n",
    "---"
   ]
  },
  {
   "cell_type": "code",
   "execution_count": null,
   "id": "a0794e1f",
   "metadata": {},
   "outputs": [],
   "source": [
    "b= 23\n",
    "c= 3.4"
   ]
  },
  {
   "cell_type": "markdown",
   "id": "ea45c3ae",
   "metadata": {
    "id": "9fb19f0d"
   },
   "source": [
    "### Exercise 12:\n",
    "Assign a boolean value `False` to a variable `is_completed`.\n",
    "\n",
    "```python\n",
    "# Exercise 12\n",
    "```\n",
    "\n",
    "---"
   ]
  },
  {
   "cell_type": "code",
   "execution_count": null,
   "id": "aba269b1",
   "metadata": {},
   "outputs": [],
   "source": [
    "is_completed = False"
   ]
  },
  {
   "cell_type": "markdown",
   "id": "5457336d",
   "metadata": {
    "id": "9fb19f0d"
   },
   "source": [
    "### Exercise 13:\n",
    "Swap the values of two variables `x` and `y`.\n",
    "\n",
    "```python\n",
    "# Exercise 13\n",
    "```\n",
    "\n",
    "---"
   ]
  },
  {
   "cell_type": "code",
   "execution_count": 8,
   "id": "cdeb381a",
   "metadata": {},
   "outputs": [
    {
     "name": "stdout",
     "output_type": "stream",
     "text": [
      "tmp1\n",
      "tmp0\n"
     ]
    }
   ],
   "source": [
    "x='tmp0'\n",
    "y='tmp1'\n",
    "\n",
    "S=x\n",
    "x=y\n",
    "y=S\n",
    "print (x)\n",
    "print(y)"
   ]
  },
  {
   "cell_type": "markdown",
   "id": "6210fe96",
   "metadata": {
    "id": "9fb19f0d"
   },
   "source": [
    "### Exercise 14:\n",
    "Assign a complex number `3 + 4j` to a variable `complex_num`.\n",
    "\n",
    "```python\n",
    "# Exercise 14\n",
    "```\n",
    "\n",
    "---"
   ]
  },
  {
   "cell_type": "code",
   "execution_count": 9,
   "id": "39af7295",
   "metadata": {},
   "outputs": [],
   "source": [
    "complex_num= complex( 3 + 4j)"
   ]
  },
  {
   "cell_type": "markdown",
   "id": "6c3afc18",
   "metadata": {
    "id": "9fb19f0d"
   },
   "source": [
    "### Exercise 15:\n",
    "Reassign a variable from an integer to a string.\n",
    "\n",
    "```python\n",
    "# Exercise 15\n",
    "```\n",
    "\n",
    "---"
   ]
  },
  {
   "cell_type": "code",
   "execution_count": 12,
   "id": "04cd5719",
   "metadata": {},
   "outputs": [
    {
     "data": {
      "text/plain": [
       "str"
      ]
     },
     "execution_count": 12,
     "metadata": {},
     "output_type": "execute_result"
    }
   ],
   "source": [
    "a = 5 \n",
    "a = str(5)\n",
    "type(a)"
   ]
  },
  {
   "cell_type": "markdown",
   "id": "d5163f28",
   "metadata": {
    "id": "9fb19f0d"
   },
   "source": [
    "### Exercise 16:\n",
    "Create two variables `first_name` and `last_name`, and assign them your first and last names.\n",
    "\n",
    "```python\n",
    "# Exercise 16\n",
    "```\n",
    "\n",
    "---"
   ]
  },
  {
   "cell_type": "code",
   "execution_count": null,
   "id": "24121edd",
   "metadata": {},
   "outputs": [],
   "source": [
    "first_name = 'ndeye binta'\n",
    "last_name = 'ndiaye'"
   ]
  },
  {
   "cell_type": "markdown",
   "id": "d5ec70c1",
   "metadata": {
    "id": "9fb19f0d"
   },
   "source": [
    "### Exercise 17:\n",
    "Create a variable `temperature` and assign it the value of `35.5`.\n",
    "\n",
    "```python\n",
    "# Exercise 17\n",
    "```\n",
    "\n",
    "---"
   ]
  },
  {
   "cell_type": "code",
   "execution_count": null,
   "id": "f6946c3c",
   "metadata": {},
   "outputs": [],
   "source": [
    "temperature= 35.5"
   ]
  },
  {
   "cell_type": "markdown",
   "id": "d56030f7",
   "metadata": {
    "id": "9fb19f0d"
   },
   "source": [
    "### Exercise 18:\n",
    "Assign the result of the multiplication of two numbers `8 * 6` to a variable `product`.\n",
    "\n",
    "```python\n",
    "# Exercise 18\n",
    "```\n",
    "\n",
    "---"
   ]
  },
  {
   "cell_type": "code",
   "execution_count": null,
   "id": "891fdd53",
   "metadata": {},
   "outputs": [],
   "source": [
    "product = 8*6"
   ]
  },
  {
   "cell_type": "markdown",
   "id": "2149e94e",
   "metadata": {
    "id": "9fb19f0d"
   },
   "source": [
    "### Exercise 19:\n",
    "Assign a sentence of your choice to a variable `sentence`.\n",
    "\n",
    "```python\n",
    "# Exercise 19\n",
    "```\n",
    "\n",
    "---"
   ]
  },
  {
   "cell_type": "code",
   "execution_count": null,
   "id": "8740ce43",
   "metadata": {},
   "outputs": [],
   "source": [
    "sentence= 'Women is the barometer of society'"
   ]
  },
  {
   "cell_type": "markdown",
   "id": "42f607f6",
   "metadata": {
    "id": "9fb19f0d"
   },
   "source": [
    "### Exercise 20:\n",
    "Use an assignment to convert a string `'50'` into an integer variable `int_value`.\n",
    "\n",
    "```python\n",
    "# Exercise 20\n",
    "```\n",
    "\n",
    "---"
   ]
  },
  {
   "cell_type": "code",
   "execution_count": 13,
   "id": "a5e15ed3",
   "metadata": {},
   "outputs": [
    {
     "data": {
      "text/plain": [
       "int"
      ]
     },
     "execution_count": 13,
     "metadata": {},
     "output_type": "execute_result"
    }
   ],
   "source": [
    "int_value=int('50')\n",
    "type(int_value)"
   ]
  },
  {
   "cell_type": "markdown",
   "id": "de5773ed",
   "metadata": {
    "id": "9fb19f0d"
   },
   "source": [
    "### Exercise 21:\n",
    "Assign the result of dividing `144` by `12` to a variable `quotient`.\n",
    "\n",
    "```python\n",
    "# Exercise 21\n",
    "```\n",
    "\n",
    "---"
   ]
  },
  {
   "cell_type": "code",
   "execution_count": 14,
   "id": "d03cbc1e",
   "metadata": {},
   "outputs": [
    {
     "data": {
      "text/plain": [
       "12.0"
      ]
     },
     "execution_count": 14,
     "metadata": {},
     "output_type": "execute_result"
    }
   ],
   "source": [
    "quotient= (144/12)\n",
    "quotient"
   ]
  },
  {
   "cell_type": "markdown",
   "id": "df10cef4",
   "metadata": {
    "id": "9fb19f0d"
   },
   "source": [
    "### Exercise 22:\n",
    "Assign the remainder of `47 divided by 5` to a variable `remainder`.\n",
    "\n",
    "```python\n",
    "# Exercise 22\n",
    "```\n",
    "\n",
    "---"
   ]
  },
  {
   "cell_type": "code",
   "execution_count": null,
   "id": "762493ab",
   "metadata": {},
   "outputs": [],
   "source": [
    "remainder= 47%5\n",
    "remainder"
   ]
  },
  {
   "cell_type": "markdown",
   "id": "69bc573a",
   "metadata": {
    "id": "9fb19f0d"
   },
   "source": [
    "### Exercise 23:\n",
    "Create a variable `is_student` and assign it the value `True`.\n",
    "\n",
    "```python\n",
    "# Exercise 23\n",
    "```\n",
    "\n",
    "---"
   ]
  },
  {
   "cell_type": "code",
   "execution_count": null,
   "id": "e56127f8",
   "metadata": {},
   "outputs": [],
   "source": [
    "is_student= True"
   ]
  },
  {
   "cell_type": "markdown",
   "id": "f4c954b0",
   "metadata": {
    "id": "9fb19f0d"
   },
   "source": [
    "### Exercise 24:\n",
    "Use a variable to store the result of a modulo operation: `45 % 4`.\n",
    "\n",
    "```python\n",
    "# Exercise 24\n",
    "```\n",
    "\n",
    "---"
   ]
  },
  {
   "cell_type": "code",
   "execution_count": null,
   "id": "921b7541",
   "metadata": {},
   "outputs": [],
   "source": [
    "b= 45%4"
   ]
  },
  {
   "cell_type": "markdown",
   "id": "00742239",
   "metadata": {
    "id": "9fb19f0d"
   },
   "source": [
    "### Exercise 25:\n",
    "Create a variable `pi` and assign it the value `3.14159`.\n",
    "\n",
    "```python\n",
    "# Exercise 25\n",
    "```\n",
    "\n",
    "---"
   ]
  },
  {
   "cell_type": "code",
   "execution_count": null,
   "id": "6ced02ba",
   "metadata": {},
   "outputs": [],
   "source": [
    "pi=3.14159"
   ]
  },
  {
   "cell_type": "markdown",
   "id": "fc5e6300",
   "metadata": {
    "id": "9fb19f0d"
   },
   "source": [
    "### Exercise 26:\n",
    "Create two variables `length` and `width`, assign them values, and calculate the area of a rectangle.\n",
    "\n",
    "```python\n",
    "# Exercise 26\n",
    "```\n",
    "\n",
    "---"
   ]
  },
  {
   "cell_type": "code",
   "execution_count": null,
   "id": "4b4552bd",
   "metadata": {},
   "outputs": [],
   "source": [
    "length = 6\n",
    "width= 3\n",
    "area= length * width"
   ]
  },
  {
   "cell_type": "markdown",
   "id": "3b27669a",
   "metadata": {
    "id": "9fb19f0d"
   },
   "source": [
    "### Exercise 27:\n",
    "Assign a negative number to a variable `negative_value`.\n",
    "\n",
    "```python\n",
    "# Exercise 27\n",
    "```\n",
    "\n",
    "---"
   ]
  },
  {
   "cell_type": "code",
   "execution_count": null,
   "id": "56cd8dc6",
   "metadata": {},
   "outputs": [],
   "source": [
    "negative_value= -1"
   ]
  },
  {
   "cell_type": "markdown",
   "id": "25825a52",
   "metadata": {
    "id": "9fb19f0d"
   },
   "source": [
    "### Exercise 28:\n",
    "Assign a string containing a special character (e.g., \"Hello, World!\") to a variable `greeting`.\n",
    "\n",
    "```python\n",
    "# Exercise 28\n",
    "```\n",
    "\n",
    "---"
   ]
  },
  {
   "cell_type": "code",
   "execution_count": null,
   "id": "22af43c9",
   "metadata": {},
   "outputs": [],
   "source": [
    "greeting = \"Hello, World!\""
   ]
  },
  {
   "cell_type": "markdown",
   "id": "64e578f9",
   "metadata": {
    "id": "9fb19f0d"
   },
   "source": [
    "### Exercise 29:\n",
    "Create a variable `population` and assign it a large integer value (in billions).\n",
    "\n",
    "```python\n",
    "# Exercise 29\n",
    "```\n",
    "\n",
    "---"
   ]
  },
  {
   "cell_type": "code",
   "execution_count": 19,
   "id": "e1291856",
   "metadata": {},
   "outputs": [],
   "source": [
    "population= 10**9"
   ]
  },
  {
   "cell_type": "markdown",
   "id": "1248dfe3",
   "metadata": {
    "id": "9fb19f0d"
   },
   "source": [
    "### Exercise 30:\n",
    "Use a variable to store the result of raising `2` to the power of `8`.\n",
    "\n",
    "```python\n",
    "# Exercise 30\n",
    "```\n",
    "\n",
    "---"
   ]
  },
  {
   "cell_type": "code",
   "execution_count": null,
   "id": "e4ab7c22",
   "metadata": {},
   "outputs": [],
   "source": [
    "a=2**8"
   ]
  },
  {
   "cell_type": "markdown",
   "id": "575d16da",
   "metadata": {
    "id": "9fb19f0d"
   },
   "source": [
    "### Exercise 31:\n",
    "Assign a list of your favorite fruits to a variable `fruits`.\n",
    "\n",
    "```python\n",
    "# Exercise 31\n",
    "```\n",
    "\n",
    "---"
   ]
  },
  {
   "cell_type": "code",
   "execution_count": null,
   "id": "53935ace",
   "metadata": {},
   "outputs": [],
   "source": [
    "fruits=[orange,grape,apple]"
   ]
  },
  {
   "cell_type": "markdown",
   "id": "0647aad9",
   "metadata": {
    "id": "9fb19f0d"
   },
   "source": [
    "### Exercise 32:\n",
    "Assign a tuple of three numbers to a variable `coordinates`.\n",
    "\n",
    "```python\n",
    "# Exercise 32\n",
    "```\n",
    "\n",
    "---"
   ]
  },
  {
   "cell_type": "code",
   "execution_count": 20,
   "id": "d4ae68a6",
   "metadata": {},
   "outputs": [
    {
     "data": {
      "text/plain": [
       "tuple"
      ]
     },
     "execution_count": 20,
     "metadata": {},
     "output_type": "execute_result"
    }
   ],
   "source": [
    "coordinates=(9,3,7)"
   ]
  },
  {
   "cell_type": "markdown",
   "id": "226c6a87",
   "metadata": {
    "id": "9fb19f0d"
   },
   "source": [
    "### Exercise 33:\n",
    "Assign a dictionary with keys `name` and `age` to a variable `person`.\n",
    "\n",
    "```python\n",
    "# Exercise 33\n",
    "```\n",
    "\n",
    "---"
   ]
  },
  {
   "cell_type": "code",
   "execution_count": 22,
   "id": "4f08f321",
   "metadata": {},
   "outputs": [
    {
     "data": {
      "text/plain": [
       "dict"
      ]
     },
     "execution_count": 22,
     "metadata": {},
     "output_type": "execute_result"
    }
   ],
   "source": [
    "person={'name':'binta','age':22 }"
   ]
  },
  {
   "cell_type": "markdown",
   "id": "760540f3",
   "metadata": {
    "id": "9fb19f0d"
   },
   "source": [
    "### Exercise 34:\n",
    "Use variables to store the sum of two floating-point numbers.\n",
    "\n",
    "```python\n",
    "# Exercise 34\n",
    "```\n",
    "\n",
    "---"
   ]
  },
  {
   "cell_type": "code",
   "execution_count": null,
   "id": "bf1c795c",
   "metadata": {},
   "outputs": [],
   "source": [
    "b =23.4\n",
    "c = 43.1\n",
    "result=b+c"
   ]
  },
  {
   "cell_type": "markdown",
   "id": "2fa923b8",
   "metadata": {
    "id": "9fb19f0d"
   },
   "source": [
    "### Exercise 35:\n",
    "Create a variable `is_sunny` and assign it the result of a comparison `10 > 5`.\n",
    "\n",
    "```python\n",
    "# Exercise 35\n",
    "```\n",
    "\n",
    "---"
   ]
  },
  {
   "cell_type": "code",
   "execution_count": 23,
   "id": "a77ae106",
   "metadata": {},
   "outputs": [
    {
     "data": {
      "text/plain": [
       "True"
      ]
     },
     "execution_count": 23,
     "metadata": {},
     "output_type": "execute_result"
    }
   ],
   "source": [
    "is_sunny= (10>5)\n",
    "is_sunny"
   ]
  },
  {
   "cell_type": "markdown",
   "id": "9f78860e",
   "metadata": {
    "id": "9fb19f0d"
   },
   "source": [
    "### Exercise 36:\n",
    "Assign a string and an integer to two different variables, then print both on one line.\n",
    "\n",
    "```python\n",
    "# Exercise 36\n",
    "```\n",
    "\n",
    "---"
   ]
  },
  {
   "cell_type": "code",
   "execution_count": 24,
   "id": "40972c12",
   "metadata": {},
   "outputs": [
    {
     "name": "stdout",
     "output_type": "stream",
     "text": [
      "binta 5\n"
     ]
    }
   ],
   "source": [
    "b= 'binta'\n",
    "a=5\n",
    "print(b,a)"
   ]
  },
  {
   "cell_type": "markdown",
   "id": "0ca7343a",
   "metadata": {
    "id": "9fb19f0d"
   },
   "source": [
    "### Exercise 37:\n",
    "Reassign a variable that originally held a number to a boolean value.\n",
    "\n",
    "```python\n",
    "# Exercise 37\n",
    "```\n",
    "\n",
    "---"
   ]
  },
  {
   "cell_type": "code",
   "execution_count": 25,
   "id": "81f95848",
   "metadata": {},
   "outputs": [
    {
     "data": {
      "text/plain": [
       "True"
      ]
     },
     "execution_count": 25,
     "metadata": {},
     "output_type": "execute_result"
    }
   ],
   "source": [
    "b=3\n",
    "b=bool(b)\n"
   ]
  },
  {
   "cell_type": "markdown",
   "id": "81b99081",
   "metadata": {
    "id": "9fb19f0d"
   },
   "source": [
    "### Exercise 38:\n",
    "Create a variable `is_weekend` and assign it the result of `False`.\n",
    "\n",
    "```python\n",
    "# Exercise 38\n",
    "```\n",
    "\n",
    "---"
   ]
  },
  {
   "cell_type": "code",
   "execution_count": null,
   "id": "3235b355",
   "metadata": {},
   "outputs": [],
   "source": [
    "is_weekend= False"
   ]
  },
  {
   "cell_type": "markdown",
   "id": "f416a975",
   "metadata": {
    "id": "9fb19f0d"
   },
   "source": [
    "### Exercise 39:\n",
    "Assign a multi-line string to a variable `description`.\n",
    "\n",
    "```python\n",
    "# Exercise 39\n",
    "```\n",
    "\n",
    "---"
   ]
  },
  {
   "cell_type": "code",
   "execution_count": 29,
   "id": "2d493585",
   "metadata": {},
   "outputs": [],
   "source": [
    "description = '''Simple and readable syntax: educational language that is easy to learn and use;\n",
    "Interpreted language: interactive use or line-by-line script execution, no compilation process;\n",
    "High-level: dynamic typing, active memory management, for greater ease of use;\n",
    "Multi-paradigm: imperative and/or object-oriented language, depending on individual needs and capabilities;\n",
    "Free and open-source software, widely spread (multi-platform) and used (strong community);\n",
    "Rich standard library: Batteries included;'''\n"
   ]
  },
  {
   "cell_type": "markdown",
   "id": "d4c47eb0",
   "metadata": {
    "id": "9fb19f0d"
   },
   "source": [
    "### Exercise 40:\n",
    "Use variables to store the result of the absolute value of `-25`.\n",
    "\n",
    "```python\n",
    "# Exercise 40\n",
    "```\n",
    "\n",
    "---"
   ]
  },
  {
   "cell_type": "code",
   "execution_count": null,
   "id": "b6d1b59d",
   "metadata": {},
   "outputs": [],
   "source": [
    "result=abs(-25)"
   ]
  },
  {
   "cell_type": "markdown",
   "id": "813847e0",
   "metadata": {
    "id": "9fb19f0d"
   },
   "source": [
    "### Exercise 41:\n",
    "Assign the result of a floor division `100 // 6` to a variable `floor_div_result`.\n",
    "\n",
    "```python\n",
    "# Exercise 41\n",
    "```\n",
    "\n",
    "---"
   ]
  },
  {
   "cell_type": "code",
   "execution_count": 26,
   "id": "43f308e2",
   "metadata": {},
   "outputs": [
    {
     "data": {
      "text/plain": [
       "16"
      ]
     },
     "execution_count": 26,
     "metadata": {},
     "output_type": "execute_result"
    }
   ],
   "source": [
    "floor_div_result= (100//6)"
   ]
  },
  {
   "cell_type": "markdown",
   "id": "2a822d63",
   "metadata": {
    "id": "9fb19f0d"
   },
   "source": [
    "### Exercise 42:\n",
    "Assign the result of adding a floating-point number to an integer to a variable `mixed_sum`.\n",
    "\n",
    "```python\n",
    "# Exercise 42\n",
    "```\n",
    "\n",
    "---"
   ]
  },
  {
   "cell_type": "code",
   "execution_count": null,
   "id": "4cd12d28",
   "metadata": {},
   "outputs": [],
   "source": [
    "mixed_sum= 5.6+4"
   ]
  },
  {
   "cell_type": "markdown",
   "id": "eafbc46a",
   "metadata": {
    "id": "9fb19f0d"
   },
   "source": [
    "### Exercise 43:\n",
    "Assign a boolean value based on the comparison of two variables `a = 10` and `b = 15`.\n",
    "\n",
    "```python\n",
    "# Exercise 43\n",
    "```\n",
    "\n",
    "---"
   ]
  },
  {
   "cell_type": "code",
   "execution_count": 32,
   "id": "24390339",
   "metadata": {},
   "outputs": [
    {
     "data": {
      "text/plain": [
       "True"
      ]
     },
     "execution_count": 32,
     "metadata": {},
     "output_type": "execute_result"
    }
   ],
   "source": [
    "comp=(a>b) \n",
    "value=(a<b)"
   ]
  },
  {
   "cell_type": "markdown",
   "id": "66e6f8d5",
   "metadata": {
    "id": "9fb19f0d"
   },
   "source": [
    "### Exercise 44:\n",
    "Assign a long sentence to a variable and count its characters using `len()`.\n",
    "\n",
    "```python\n",
    "# Exercise 44\n",
    "```\n",
    "\n",
    "---"
   ]
  },
  {
   "cell_type": "code",
   "execution_count": 37,
   "id": "6ec48ea9",
   "metadata": {},
   "outputs": [
    {
     "name": "stdout",
     "output_type": "stream",
     "text": [
      "128\n"
     ]
    }
   ],
   "source": [
    "sent=len('This notebook introduces the free Python language and describes the initial commands necessary to get started with the language.')\n"
   ]
  },
  {
   "cell_type": "markdown",
   "id": "8c69962f",
   "metadata": {
    "id": "9fb19f0d"
   },
   "source": [
    "### Exercise 45:\n",
    "Assign a fractional result `7 / 3` to a variable `division_result`.\n",
    "\n",
    "```python\n",
    "# Exercise 45\n",
    "```\n",
    "\n",
    "---"
   ]
  },
  {
   "cell_type": "code",
   "execution_count": 38,
   "id": "66b905fc",
   "metadata": {},
   "outputs": [
    {
     "name": "stdout",
     "output_type": "stream",
     "text": [
      "2.3333333333333335\n"
     ]
    }
   ],
   "source": [
    "division=(7/3)\n"
   ]
  },
  {
   "cell_type": "markdown",
   "id": "efa5db1c",
   "metadata": {
    "id": "9fb19f0d"
   },
   "source": [
    "### Exercise 46:\n",
    "Create a variable `speed` and assign it the value of 100 kilometers per hour.\n",
    "\n",
    "```python\n",
    "# Exercise 46\n",
    "```\n",
    "\n",
    "---"
   ]
  },
  {
   "cell_type": "code",
   "execution_count": null,
   "id": "6347e1da",
   "metadata": {},
   "outputs": [],
   "source": [
    "speed=100 + 'km/h'"
   ]
  },
  {
   "cell_type": "markdown",
   "id": "26cae20e",
   "metadata": {
    "id": "9fb19f0d"
   },
   "source": [
    "### Exercise 47:\n",
    "Assign a multi-variable equation like `y = 3x + 5` where `x = 4` to a variable `y`.\n",
    "\n",
    "```python\n",
    "# Exercise 47\n",
    "```\n",
    "\n",
    "---"
   ]
  },
  {
   "cell_type": "code",
   "execution_count": 41,
   "id": "511fe299",
   "metadata": {},
   "outputs": [
    {
     "data": {
      "text/plain": [
       "17"
      ]
     },
     "execution_count": 41,
     "metadata": {},
     "output_type": "execute_result"
    }
   ],
   "source": [
    "x=4\n",
    "y =3*x+5\n",
    "\n",
    "y"
   ]
  },
  {
   "cell_type": "markdown",
   "id": "9fb19f0d",
   "metadata": {
    "id": "9fb19f0d"
   },
   "source": [
    "### Exercise 48:\n",
    "Use variables to calculate and store the average of three numbers.\n",
    "\n",
    "```python\n",
    "# Exercise 48\n",
    "```\n",
    "\n",
    "****"
   ]
  },
  {
   "cell_type": "code",
   "execution_count": null,
   "id": "5470fdcd",
   "metadata": {},
   "outputs": [],
   "source": [
    "moy=(2+4+5)/3"
   ]
  }
 ],
 "metadata": {
  "colab": {
   "provenance": []
  },
  "kernelspec": {
   "display_name": "Python 3 (ipykernel)",
   "language": "python",
   "name": "python3"
  },
  "language_info": {
   "codemirror_mode": {
    "name": "ipython",
    "version": 3
   },
   "file_extension": ".py",
   "mimetype": "text/x-python",
   "name": "python",
   "nbconvert_exporter": "python",
   "pygments_lexer": "ipython3",
   "version": "3.10.12"
  }
 },
 "nbformat": 4,
 "nbformat_minor": 5
}
